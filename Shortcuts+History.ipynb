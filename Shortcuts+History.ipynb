{
  "nbformat": 4,
  "nbformat_minor": 0,
  "metadata": {
    "colab": {
      "name": "Shortcuts+History.ipynb",
      "provenance": [],
      "collapsed_sections": []
    },
    "kernelspec": {
      "name": "python3",
      "display_name": "Python 3"
    },
    "language_info": {
      "name": "python"
    }
  },
  "cells": [
    {
      "cell_type": "markdown",
      "metadata": {
        "id": "Dmg5KZ-GZeIq"
      },
      "source": [
        "# Linux Command Line: Shortcuts & History"
      ]
    },
    {
      "cell_type": "markdown",
      "metadata": {
        "id": "5O6hykCdZlrf"
      },
      "source": [
        "## Shortcuts\n",
        "\n",
        "We can speed up our command-line expericne by taking advantage of the many built-in shortcuts. These shortcuts are designed so that your hands never have to leave your keyboard \"home base\". \n",
        "\n",
        "### Clearing\n",
        "\n",
        "Use ctrl+l to clear the entire screen.\n",
        "\n",
        "### Line Jumping\n",
        "\n",
        "Use ctrl+a to move the cursor to the beginning of the line and ctrl+e to the end.\n",
        "\n",
        "### Moving Characters\n",
        "\n",
        "Use ctrl+f to move the cursor forward one character at a time (same as right arrow). Use ctrl+b to move the cursor backwards one character at a time (same as left arrow).\n",
        "\n",
        "### Jumping Words\n",
        "\n",
        "Use alt+f to move the cursor forward one word and alt+b backward one word.\n",
        "\n",
        "### Swapping \n",
        "\n",
        "Use ctrl+t to swap the current character under the cursor with one the preceeding it. This is useful to fix typos.\n",
        "\n",
        "### Killing the Line\n",
        "\n",
        "Use ctrl+k to kill the text from the current cursor location until the end of the line and ctrl+u to kill the text from the current cursor location to the beginning of the line.\n",
        "\n",
        "### Killing a Word\n",
        "\n",
        "Use alt+d to kill the text from the current cursor location through the end of the word and ctrl+w or alt+delete to kill the text from the current cursor through the beginning of the word.\n",
        "\n",
        "### Reviving Text (Yanking)\n",
        "\n",
        "When we kill text using commands like ctrl+k, ctrl+u, alt+d, and alt+backspace, the killed text is stored in a memory in an area known as kill-ring. We retrieve the most recently killed text using ctrl+y."
      ]
    },
    {
      "cell_type": "markdown",
      "metadata": {
        "id": "pOAlGfwxcBVT"
      },
      "source": [
        "## History\n",
        "\n",
        "### View History\n",
        "\n",
        "Bash keeps a record of the command we have previously entered. We can see the actual file at `~/.bash_history`. You can scroll through the history one command at a time using the up and down arrows. We can also the `history` command to view the entire history, though. it's generally easier to manage if we pipe the output to less.\n",
        "\n",
        "### History Expansion\n",
        "\n",
        "We can easily re-run an earlier command if we have its line number from the history. For example, to run the 73rd command in the history, we could run `!73`.\n",
        "\n",
        "### Searching History\n",
        "\n",
        "Often it is easiest to find an earlier command by searching using a small portion of the command that you remember. Type ctrl+r to enter \"reverse-i-search\". As you start typing, bash will search the history and show the best match. Hit ctrl+r to cycle through potential matches."
      ]
    }
  ]
}