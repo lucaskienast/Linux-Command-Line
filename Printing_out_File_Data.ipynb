{
  "nbformat": 4,
  "nbformat_minor": 0,
  "metadata": {
    "colab": {
      "name": "Printing out File Data.ipynb",
      "provenance": [],
      "collapsed_sections": []
    },
    "kernelspec": {
      "name": "python3",
      "display_name": "Python 3"
    },
    "language_info": {
      "name": "python"
    }
  },
  "cells": [
    {
      "cell_type": "markdown",
      "metadata": {
        "id": "3n9RxkvfoUQc"
      },
      "source": [
        "# Linux Command Line: Working with Files"
      ]
    },
    {
      "cell_type": "markdown",
      "metadata": {
        "id": "IP-A2oCzoaD7"
      },
      "source": [
        "## The `cat` Command\n",
        "\n",
        "The cat command concatenates and prints the contents of files. `cat filename` will read the contents of a file and print them out. For example, `cat instructions.txt` will read in from the instructions.txt file and then print the contents out to the screen. \n",
        "\n",
        "If we provide multiple files, it will concatenate their contents and output them. For example, `cat butter.js oil.js` will output butter.js first and immediately after print out the contents of oil.js.\n",
        "\n",
        "## The `less` Command\n",
        "\n",
        "The less command displays the contents of a file, one page at a time. We can navigate forwards through the file, which is especially useful with very large files. For example, `less file.txt` will display the contents of file.txt using less.\n",
        "\n",
        "When viewing a file using less:\n",
        "\n",
        "- press space of f to go to the next page of the file\n",
        "- press b to go back to the previous page\n",
        "- press enter or down arrow to scroll by one line\n",
        "- to search, type forward slash followed by a pattern\n",
        "- press q to quit\n",
        "\n",
        "## The `tac` Command (vertical reverse)\n",
        "\n",
        "tac (cat spelled backwards) will concatenate and print files in reverse. It prints each line of a file, starting at the last line.\n",
        "\n",
        "## The `rev` Command (horiontal reverse)\n",
        "\n",
        "The rev command prints the contents of a file, reversing the order of each line. \n",
        "\n",
        "## The `head` Command\n",
        "\n",
        "The head command prints a portion of a file, starting from the beginning of the file. By default, it prints the first 10 lines of a file. For example, `head text.txt` would print the first 10 lines of the text.txt file.\n",
        "\n",
        "We can also specify a number of lines for a head to print using the `-n` option (or --lines) followed by an integer. For example, `head -n 21 text.txt` would print the first 21 lines of the text.txt file.\n",
        "\n",
        "We can also provide a number of bytes to print out, rather than lines, using the `-c` option. For example, `head -c 8 text.txt` would print out the first 8 bytes of text.txt.\n",
        "\n",
        "## The `tail` Command\n",
        "\n",
        "The tail command works similarly to the head command, except it prints from the end of a file. By default, it prints out the last 10 lines. For example, `tail text.txt` would print out the last 10 lines of text.txt.\n",
        "\n",
        "The same `-n` and `-c` options from the `head` command also work here.\n",
        "\n",
        "## The `wc` Command\n",
        "\n",
        "The word count command can tell us the number of words, lines, or bytes in files. By default, it prints out the three numbers: the lines, words, and bytes in a file. We can use the `-l` option to limit the output to the number of lines. The `-w` option limits the output to the number of words in the file.\n",
        "\n",
        "## The `sort` Command\n",
        "\n",
        "The sort command outputs the sorted contents of a file without changing the file itself. By default, it will sort the lines of a file alphabetically. For example, `sort text.txt` would print each line from text.txt, sorted in alphabetical order.\n",
        "\n",
        "The `-r` option tells the sort command to sort in reverse order.\n",
        "\n",
        "The `-n` option tells the sort command to sort in numerical order.\n",
        "\n",
        "The `-u` option tells the sort command to ignore duplicates and instead only sort unique values.\n",
        "\n",
        "We can specify a particular \"column\" that we want to sort by, using the `-k` option followed by a field number. The columns are separated by a space character. "
      ]
    }
  ]
}