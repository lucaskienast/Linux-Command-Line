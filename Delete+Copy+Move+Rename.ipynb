{
  "nbformat": 4,
  "nbformat_minor": 0,
  "metadata": {
    "colab": {
      "name": "Delete+Copy+Move+Rename.ipynb",
      "provenance": [],
      "collapsed_sections": []
    },
    "kernelspec": {
      "name": "python3",
      "display_name": "Python 3"
    },
    "language_info": {
      "name": "python"
    }
  },
  "cells": [
    {
      "cell_type": "markdown",
      "metadata": {
        "id": "CBAITmwsF2X0"
      },
      "source": [
        "# Linux Command Line: Deleting, Copying, and Moving"
      ]
    },
    {
      "cell_type": "markdown",
      "metadata": {
        "id": "G-H_hrd6GCXc"
      },
      "source": [
        "## The `rm` Command\n",
        "\n",
        "We use the remove command to remove files from our machine. For example, `rm app.js` would remove the app.js file. Note: rm deletes files, there is no recycling bin to retrieve them from.\n",
        "\n",
        "To delete empty folders, we need to use the `-d` option with `rm`. For example, `rm -d cats` would remove the cats directory (only if it is empty). Alternatively, you can use `rmdir` to remove empty directories.\n",
        "\n",
        "To delete folders that are not empty, use the `-r` option. For example, `rm -r chickens` would delete the chickens directory whether it is empty or not.\n",
        "\n",
        "To be presented with an \"are you sure you want to delete?\" option, then use the `-i` option.\n",
        "\n",
        "## The `mv` Command\n",
        "\n",
        "Use the move command to move files and directories from one location to another. When we specify a file or files as the source and a directory as the destination, we are moving the files into the directory. For example, `mv app.css styles/` will move the app.css file into the styles directory.\n",
        "\n",
        "We can also use the move command to rename files and folders. If we specify a single file as the source and a single file as the destination, it will rename the file. For example, to rename the chickens.txt file to roosters.txt. we could run `mv chickens.txt roosters.txt`. If we specify a single folder as the source and the destination does not exist, it will rename the folder. If the destination folder does exist, it will move our source folder into the destination folder.\n",
        "\n",
        "## The `cp` Command\n",
        "\n",
        "We can use the copy command to create copies of files and folders. To create a copy of sheep.txt called dolly.txt, we could run `cp sheep.txt dolly.txt`. To copy multiple files into another directory, use `cp file1 file2 directory`."
      ]
    }
  ]
}