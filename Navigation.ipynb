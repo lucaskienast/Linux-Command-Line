{
  "nbformat": 4,
  "nbformat_minor": 0,
  "metadata": {
    "colab": {
      "name": "Navigation.ipynb",
      "provenance": [],
      "collapsed_sections": []
    },
    "kernelspec": {
      "name": "python3",
      "display_name": "Python 3"
    },
    "language_info": {
      "name": "python"
    }
  },
  "cells": [
    {
      "cell_type": "markdown",
      "metadata": {
        "id": "flaODO4jK-vM"
      },
      "source": [
        "# Linux Command Line: Navigation"
      ]
    },
    {
      "cell_type": "markdown",
      "metadata": {
        "id": "_mwwiXwxLCMz"
      },
      "source": [
        "## Root Directory\n",
        "\n",
        "The root directory is the starting point for the file system. We call it the root, but its actual name is \"/\". This folder contains \"all other folders\", meaning everything on the machine is located inside this folder. To open the root directory on a Mac, type `open /`.\n",
        "\n",
        "Confusingly, there is a sub-directory called \"root\", but these are not the same!\n",
        "\n",
        "## Home Directory\n",
        "\n",
        "`/home` contains a folder for each user on the system, such as `/home/user`. This folder contains all the files etc. that belong to this one specific user. The shorthand of the home directory is `~`. "
      ]
    },
    {
      "cell_type": "markdown",
      "metadata": {
        "id": "xtW_PJigOhgx"
      },
      "source": [
        "## The `pwd` Command\n",
        "\n",
        "The print working directory command is quite simple. Think of it as a \"where am I\" command. It will print the path of your current working directory, starting from the root `/`. For example, if you were on your desktop and you ran `pwd`, you would see something like `/home/user/Desktop`. This is simply an informative commmand. \n",
        "\n",
        "## The `ls` Command\n",
        "\n",
        "The list command will list all the contents of a directory. When used with no options or arguments, it prints a list of the files and folders located in the current directory. We can also list the contents of a specific directory using `ls path`. For example, `ls /bin` will print the contents of the /bin directory. The `ls` command accepts many options. Two of the most commonly used ones are `-l` and `-a`.\n",
        "\n",
        "- `ls -l` prints in long listing format. It shows more information about each file/folder.\n",
        "- `ls -a` will also list any hidden files that begin with \".\", which are usually not listed.\n",
        "- `ls -la` combines these two options. This example prints detailed information for all files, including hidden files.\n",
        "\n",
        "## The `cd` Command\n",
        "\n",
        "The `cd` command is used to change the current working directory, \"moving\" into another directory. For example, `cd /home/user` would bring you to that user's directory. You can press \"tab\" to auto-complete. In Unix-like operating systems, a single dot (.) is used to represent the current directory. Two dots (..) represent the parent directory. So we can use `cd ..` to move up one level, from our current directory into the parent directory."
      ]
    },
    {
      "cell_type": "markdown",
      "metadata": {
        "id": "Dsw-P_vacjlR"
      },
      "source": [
        "## Relative Paths\n",
        "\n",
        "When providing paths to commands like `cd` or `ls`, we have the option of using relative or absolute paths. Relative paths are paths that specify a directory/file relative to the current directory. For example, `cd ../Desktop/Folder`.\n",
        "\n",
        "## Absolute Paths\n",
        "\n",
        "Absolute paths start from the root directory and start with `/`. For example, `cd /home/user/Desktop/Folder`."
      ]
    }
  ]
}
