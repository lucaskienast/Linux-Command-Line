{
  "nbformat": 4,
  "nbformat_minor": 0,
  "metadata": {
    "colab": {
      "name": "Expansion & Substitution.ipynb",
      "provenance": [],
      "collapsed_sections": [],
      "authorship_tag": "ABX9TyNOI32h1yX9eOFwDDl/RFHp"
    },
    "kernelspec": {
      "name": "python3",
      "display_name": "Python 3"
    },
    "language_info": {
      "name": "python"
    }
  },
  "cells": [
    {
      "cell_type": "markdown",
      "metadata": {
        "id": "5JdlfJLY9ed5"
      },
      "source": [
        "# Linux Command Line: Expansion & Substitution"
      ]
    },
    {
      "cell_type": "markdown",
      "metadata": {
        "id": "jEYpqW6t9i7G"
      },
      "source": [
        "## Wildcard Characters (aka globbing patterns)\n",
        "\n",
        "We can use special wildcard characters to build patterns that can match multiple filenames at once.\n",
        "\n",
        "### The `*` Wildcard\n",
        "\n",
        "The asterisk character represents zero or more characters in a filename. For example:\n",
        "\n",
        "- `ls *.html` will list any files that end with .html\n",
        "- `cat blue*` will print any files that start with blue \n",
        "\n",
        "### The `?` Wildcard\n",
        "\n",
        "The question mark character represents any single character. For example:\n",
        "\n",
        "- `ls app.??` will list any files named app that end with two characters\n",
        "- `ls pic?.png` will list files like pic1.png, pic2.png, picA.png etc., but not pic10.png or picAB.png\n",
        "\n",
        "### The `[]` Wildcard\n",
        "\n",
        "Inside the square brackets we can specify a range of characters to match. For example:\n",
        "\n",
        "- `ls pic[123].png` will only list pic1.png, pic2.png, and pic3.png\n",
        "- `ls file[0-9]` will list file1 to file9\n",
        "- `ls [A-F]*` will list any files that begin with a capital A to F\n",
        "\n",
        "### The `[^]` Wildcard\n",
        "\n",
        "Inside of square brackets we can specify a range of characters not to match by using the caret. For example:\n",
        "\n",
        "- `ls [^a]*` will list any files that do not start with a\n",
        "- `ls [^0-9]*` will list any files that do not start with a number between 0 and 9\n",
        "\n",
        "## Character Classes\n",
        "\n",
        "We can also use predefined named character classes:\n",
        "\n",
        "- `[:alpha:]` alphabetic characters, upper and lowercase\n",
        "- `[:digit:]` digits 0-9\n",
        "- `[:lower:]` lower case letters\n",
        "- `[:upper:]` upper case letters\n",
        "- `[:blank:]` blank characters: space and tab\n",
        "- `[:punct:]` punctuation characters\n",
        "- `[:alnum:]` alphanumeric characters\n",
        "\n",
        "## Brace Expansion `{}`\n",
        "\n",
        "Brace expansion is used to generate arbitrary strings. It will generate multiple strings for us based on a pattern. We provide a set of strings inside of curly braces `{}`, as well as optional surrounding prefixes and suffixes. The specified strings are used to generate all possible combinations with the optional prefixes and suffixes.\n",
        "\n",
        "For example, `touch page{1,2,3}.txt` will generate three new files: page1.txt, page2.txt, and page3.txt.\n",
        "\n",
        "### Ranges\n",
        "\n",
        "We can provide a numeric range, which will be used to generate a sequence. For example:\n",
        "\n",
        "- `jan{1..31}` will be expanded to jan1, jan2, jan3,..., jan31\n",
        "- `echo {2..10..2}` will print out 2, 4, 6, 8, and 10\n",
        "- `echo {a..e}` will print out a, b, c, d, and e\n",
        "\n",
        "### Nested Brace Expansion\n",
        "\n",
        "`echo {x, y{1..3}, z}` will print out x, y1, y2, y3, and z\n",
        "\n",
        "## Arithmetic Expansion\n",
        "\n",
        "The shell will perform arithmetic via expansion using the `$((expression))` syntax. Inside the parantheses, we can write arithmetic expressions using +, -, *, /, **, %.\n",
        "\n",
        "## Command Substitution\n",
        "\n",
        "We can use the `$(command)` syntax to display the output of another command. For example, `echo \"today is ${date}\"`.\n",
        "\n",
        "## Quoting\n",
        "\n",
        "`echo look $here` will print out \"look\" and whatever the variable $here stores.\n",
        "\n",
        "### Double Quotes\n",
        "\n",
        "If we wrap text in double quotes, the shell will respect our spacing and will ignore special characters except for $, \\, and `.\n",
        "\n",
        "Pathname expansion, brace expansion, and ward splitting will be ignored. However, command substitution and arithmetic expansion is still performed.\n",
        "\n",
        "### Single Quotes\n",
        "\n",
        "Use single quotes to suppress all forms of substitution.\n",
        "\n",
        "## Escaping\n",
        "\n",
        "To selectively prevent expansion or substitution for specific characters, we can prefix them with a single backslash. We can use this to reference special characters that normall yhave meanings inside of filenames. For example:\n",
        "\n",
        "- `echo \"$5.00\"` will print .00\n",
        "- `echo \"\\$5.00\"` will print $5.00"
      ]
    }
  ]
}
