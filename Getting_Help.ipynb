{
  "nbformat": 4,
  "nbformat_minor": 0,
  "metadata": {
    "colab": {
      "name": "Getting Help.ipynb",
      "provenance": [],
      "collapsed_sections": []
    },
    "kernelspec": {
      "name": "python3",
      "display_name": "Python 3"
    },
    "language_info": {
      "name": "python"
    }
  },
  "cells": [
    {
      "cell_type": "markdown",
      "metadata": {
        "id": "S6elEWOupvM1"
      },
      "source": [
        "# Linux Command Line: Getting Help"
      ]
    },
    {
      "cell_type": "markdown",
      "metadata": {
        "id": "LMoGp7MYpzDm"
      },
      "source": [
        "## Man Pages\n",
        "\n",
        "The man pages, short for manual pages, are a built-in form of documentation available on neraly all UNIX-like operating systems. The specific contents vary from one operating system to another, but at a bare minimum the man pages include information on commands and their usage.\n",
        "\n",
        "### Contents\n",
        "\n",
        "- Title/name of the command with a short explanation\n",
        "- Synposis of the command's syntax\n",
        "- Description of all of the command's options\n",
        "\n",
        "### Open\n",
        "\n",
        "To read the specific piece of documentation associated with a given command, run the `man` command. For example, to learn more about the `ncal` command we could run `man ncal`. This displays a bunch of information on `ncal` that we can scroll through.\n",
        "\n",
        "### Navigate \n",
        "\n",
        "- Type `q`to exit\n",
        "- Press `space` to scroll down page-wise\n",
        "- Type `b` to go back one page\n",
        "- Type `f` to scroll down one page\n",
        "- Type `h` to get help for further commands\n",
        "- Type `/` with an option to search for the options function\n",
        "\n",
        "### Synposis\n",
        "Anything listed inside of square brackets is optional. The content of the square brackets shows the options and their respective required additional inputs to use that option. For example `[-A number]` tells us that in order to use the `-A` option we must attach a number behind it.\n",
        "\n",
        "An ellipsis (...) indicates that one or more of the preceeding operand are allowed. For example, `[OPTION]...` means that we can pass more than one option to the command. And `[STRING]...` means that we can pass multiple strings (this is taken from `man echo`).\n",
        "\n",
        "Required operands are not wrapped in square brackets. For example, in the `man cp` we are told that we must pass one source `SORUCE`, and `DEST` indicates that we must pass a destination as well. Those two arguments are required.\n",
        "\n",
        "### Manual Sections\n",
        "The manual is broken down into 8 different sections, each covering a specific topic in depth:\n",
        "\n",
        "1. User commands\n",
        "2. System calls\n",
        "3. C library functions\n",
        "4. Special files\n",
        "5. File forms\n",
        "6. Games\n",
        "7. Miscellaneous\n",
        "8. System admin commands\n",
        "\n",
        "### Searching\n",
        "\n",
        "To search the manual, use `man -k` and attach the search-term. You can then look at the search results and access a particular section of the manual by using the search result. For example, to see view `passwd(5)` i.e. section for `passwd` in section 5, type `man 5 passwd`."
      ]
    },
    {
      "cell_type": "markdown",
      "metadata": {
        "id": "mARJ7y8u2tRa"
      },
      "source": [
        "## Types of Commands\n",
        "The `type` command tells us the type of a specified command by telling us where and how it is defined. There are four main groups of commands:\n",
        "\n",
        "1. An executable program, usually stored in /bin, /usr/bin, or /usr/local/bin. These are compiled binary files (hence bin).\n",
        "2. A built-in shell command. These commands are part of the shell (e.g. bash)\n",
        "3. A shell function\n",
        "4. An alias\n",
        "\n",
        "For example, you can type `type clear`, and you will receive a result saying `clear is hashed (/usr/bin/clear)`. That tells us that it is an executable program."
      ]
    },
    {
      "cell_type": "markdown",
      "metadata": {
        "id": "8K1URaVQ4Qm5"
      },
      "source": [
        "## Which\n",
        "\n",
        "To find the exact location of an executable, run `which command`. This only works for executables, not built-in shell commands or aliases."
      ]
    },
    {
      "cell_type": "markdown",
      "metadata": {
        "id": "LndJIJTU4rRu"
      },
      "source": [
        "## Help\n",
        "\n",
        "Some commands do not have man pages written for them, because they are commands that are directly built into the shell. We can find documentation on those commands using the `help` command. For example, to learn more about the `cd`command we would run `help cd`."
      ]
    }
  ]
}
