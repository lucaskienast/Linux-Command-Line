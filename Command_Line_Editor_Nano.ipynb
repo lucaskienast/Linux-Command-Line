{
  "nbformat": 4,
  "nbformat_minor": 0,
  "metadata": {
    "colab": {
      "name": "Command Line Editor Nano.ipynb",
      "provenance": [],
      "collapsed_sections": []
    },
    "kernelspec": {
      "name": "python3",
      "display_name": "Python 3"
    },
    "language_info": {
      "name": "python"
    }
  },
  "cells": [
    {
      "cell_type": "markdown",
      "metadata": {
        "id": "wLU5xqt1YAis"
      },
      "source": [
        "# Linux Command Line: Nano\n",
        "\n",
        "Nano is a simple text editor that we can access right from the terminal. It's far more accessible than other popular command-line editors like vim and emacs. Nano includes all the basic text editing functionality you would expect: search, spellcheck, syntax highlighting, etc."
      ]
    },
    {
      "cell_type": "markdown",
      "metadata": {
        "id": "p9EdKAwLYFxI"
      },
      "source": [
        "## General Nano\n",
        "To open a file using nano, run `nano FILE`. For example, to open the file book.txt using nano, we would run `nano book.txt`. We can also use the same command to edit a file that does not yet exist (we can then save it and create the file).\n",
        "\n",
        "## Edit at a specific line\n",
        "We can also provide nano with a specific line number to position the cursor using nano + LINE FILE. To open up the book.txt file at line 205, we would run `nano +205 book.txt`.\n",
        "\n",
        "## View all Shortcuts\n",
        "To view all nano shortcuts, type ctrl + G. Note, the shortcuts that start with \"M\" refer to the meta-key, which on a Mac equates to esc + shift.\n",
        "\n",
        "## Save File\n",
        "To save, we need to \"write out\" using ctrl + O.\n",
        "\n",
        "## Search File\n",
        "To search, use ctrl + W and then enter a search phrase to search FORWARD in the file from your current cursor location.\n",
        "\n",
        "## Replacing\n",
        "To search and replace, use ctrl + \\ and then enter the word you want to replace. Then enter the replacement and decide whether to replace specific matches of all matches.\n",
        "\n",
        "## Spellchecking\n",
        "We can use spellchecking inside of nano, but we have to enable it first in the nano config file located at /etc/nanorc.\n",
        "\n",
        "## Exit Nano\n",
        "To exit, use ctrl + X."
      ]
    }
  ]
}