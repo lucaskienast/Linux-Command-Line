{
  "nbformat": 4,
  "nbformat_minor": 0,
  "metadata": {
    "colab": {
      "name": "Environment.ipynb",
      "provenance": [],
      "collapsed_sections": []
    },
    "kernelspec": {
      "name": "python3",
      "display_name": "Python 3"
    },
    "language_info": {
      "name": "python"
    }
  },
  "cells": [
    {
      "cell_type": "markdown",
      "metadata": {
        "id": "4l0hZo7ddS90"
      },
      "source": [
        "# Linux Command Line: The Environment"
      ]
    },
    {
      "cell_type": "markdown",
      "metadata": {
        "id": "kvzehdvPdWdN"
      },
      "source": [
        "## The Environment\n",
        "\n",
        "The shell maintains a set of information during a shell session, known as the environment. It is just a series of key-value pairs that define properties like:\n",
        "\n",
        "- your home directory\n",
        "- your working directory\n",
        "- the name of your shell\n",
        "- the name of the logged in user\n",
        "\n",
        "## The `printenv` Command\n",
        "\n",
        "Use the `printenv` command to view the environment variables and their current values. Because there are quite a few values, it can be useful to pipe the output to `less`.\n",
        "\n",
        "## Parameter Expansion\n",
        "\n",
        "If we write out the name of an environment variable prefixed with a dollar sign, the shell will replace it with the actual value. For example, `echo $USER` results in the USER variable's value.\n",
        "\n",
        "## Defining Variables\n",
        "\n",
        "To define a variable, use the syntax `variable=value`. Built-in variables are upper-cased, so it is a common convention to lowercase custom variables to prevent confusion.\n",
        "\n",
        "Note, these variable are stored as shell variables, not environment variables. Shell variables only exist in our current shell session. If you run`bash` a new bash shell session will be started and the shell variables lost, whilst environment variables remain intact. To turn a shell variable \"animal\" that equals \"horse\" into an environment variable, run `export animal=\"horse\"`. However, this variable will not be stored across multiple different terminal windows and shell sessions. \n",
        "\n",
        "## Aliases\n",
        "\n",
        "We can define our own commands using the `alias` keyword. For example, `alias ll='ls-al'` defines an alias called ll which is equivalent to running `ls -al`. To execute it simply run `ll`.\n",
        "\n",
        "Useful aliases: https://www.digitalocean.com/community/questions/what-are-your-favorite-bash-aliases\n",
        "\n",
        "## Startup Files\n",
        "\n",
        "When we log in, the shell reads information from startup files. First, the shell reads from global config files that affect the environment for all users. Then, the shell reads startup files for specific users. The specific files the shell reads from depends on the type of session: login vs. non-login shell sessions.\n",
        "\n",
        "For login sessions:\n",
        "- / etc/profile - global config for all users\n",
        "- ~/bash_profile - user's personal config file\n",
        "- ~/bash_login - read if bash_profile is not found\n",
        "- ~/.profile - used if previous two are not found\n",
        "\n",
        "For non-login sessions (typical sessions when you launch the terminal via the GUI):\n",
        "- /etc/bash.bashrc - global config for all users\n",
        "- ~/bashrc - specify settings for each user. This is where we can define our own settings and configurations\n",
        "\n",
        "## Customize Prompt\n",
        "\n",
        "To customize the prompt of the current user, type `sudo nano ~/.bash_profile`. And to make the changes take effect type `source .bash_profile`.\n",
        "\n",
        "See: https://ezprompt.net/\n"
      ]
    }
  ]
}