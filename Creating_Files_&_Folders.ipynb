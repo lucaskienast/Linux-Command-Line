{
  "nbformat": 4,
  "nbformat_minor": 0,
  "metadata": {
    "colab": {
      "name": "Creating Files & Folders.ipynb",
      "provenance": [],
      "collapsed_sections": []
    },
    "kernelspec": {
      "name": "python3",
      "display_name": "Python 3"
    },
    "language_info": {
      "name": "python"
    }
  },
  "cells": [
    {
      "cell_type": "markdown",
      "metadata": {
        "id": "Abg-NbTbDTiU"
      },
      "source": [
        "# Linux Command Line: Creating Files & Folders"
      ]
    },
    {
      "cell_type": "markdown",
      "metadata": {
        "id": "6iOfEg5hGp9A"
      },
      "source": [
        "## The `touch` Command\n",
        "\n",
        "To create a new file from the command line, use the touch command. Provide a filename, and that file will be created for you (assuming it does not already exist). For example, `touch chicken.txt` would create a chicken.txt file in the current directory. If you try to use touch with a file that already exists, it will simply update the access and modification dates to the current time.\n",
        "\n",
        "## Good & Bad File Names\n",
        "\n",
        "See this page for not to include in file names: https://en.wikipedia.org/wiki/Filename\n",
        "\n",
        "If any filename has to include special characters, put the name in quotation marks or place a `\\` in front of it.\n",
        "\n",
        "## The `file` Command\n",
        "\n",
        "The file command can be used to determine the file type of a specified file. For example, running `file contract.pdf` will tell us the file type of contract.pdf and hence would print something like: \"contract.pdf: PDF document, version 1.4\". Note, it does not use the file extension to \"decide\" on the file type. We could have a pdf file named \"app.png\".\n",
        "\n",
        "## The `mkdir` Command\n",
        "\n",
        "To create new directories, we use the make directory (mkdir) command. We provide one or more directory names, and it will create them for us. For example, to create two new folders, called \"images\" and \"styles\", we could run `mkdir images styles`. To create nested folders, i.e. create a parent folder with a child folder in it, you can use the option `-p`. For example, to create the nested folders \"Parent\" and \"Child\", you can type `mkdir -p Parent/Child`.\n"
      ]
    }
  ]
}