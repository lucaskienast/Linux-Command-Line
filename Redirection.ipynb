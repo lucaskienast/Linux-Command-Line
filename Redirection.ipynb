{
  "nbformat": 4,
  "nbformat_minor": 0,
  "metadata": {
    "colab": {
      "name": "Redirection.ipynb",
      "provenance": [],
      "collapsed_sections": []
    },
    "kernelspec": {
      "name": "python3",
      "display_name": "Python 3"
    },
    "language_info": {
      "name": "python"
    }
  },
  "cells": [
    {
      "cell_type": "markdown",
      "metadata": {
        "id": "8BuPOJ-YYCAO"
      },
      "source": [
        "# Linux Command Line: Redirection"
      ]
    },
    {
      "cell_type": "markdown",
      "metadata": {
        "id": "AC8jxD8tYKpr"
      },
      "source": [
        "## Standard Streams\n",
        "\n",
        "The three standard streams are communication channels between a computer program and its environment. They are:\n",
        "\n",
        "- Standard input\n",
        "- Standard output\n",
        "- Standard error\n",
        "\n",
        "### Standard Output\n",
        "\n",
        "Standard output is a place to which a program or command can send information. The information could go to a screen to be displayed, to a file, or even to a printer or other devices.\n",
        "\n",
        "### Standard Input\n",
        "\n",
        "Standard input is where a program or command gets its input information from. By default, the shell directs standard input from the keyboard. The input information could come from a keyboard, a file, or even from another command.\n",
        "\n",
        "### Standard Error\n",
        "\n",
        "Commands and programs also have a destination to send error messages: standard error. By default, the shell directs standard error information to the screen for us to read, but we can change that destination if needed."
      ]
    },
    {
      "cell_type": "markdown",
      "metadata": {
        "id": "UZ7eH3c4Za9w"
      },
      "source": [
        "## Redirection\n",
        "\n",
        "Redirection describes the ways we can alter the source of standard input, and the destinations for standard output and standard error.\n",
        "\n",
        "### Redirecting Output\n",
        "\n",
        "The redirect output symbol `>` tells the shell to redirect the output of a command to a specific file instead of the screen. By default, the `date` command will print the current date to the screen. If we instead run `date > output.txt` the output will be redirected to a file names output.txt. Another example is `echo \"moo\" > cow.js` or `ls -l > files.txt`.\n",
        "\n",
        "### Appending\n",
        "\n",
        "When we redirect output into a file using `>`, any existing contents in the file are overwritten. Sometimes this is not what we want. To instead keep the existing contents in the file and add new content to the end of the file, use `>>` when redirecting.\n",
        "\n",
        "### Redirecting Input\n",
        "\n",
        "To pass contents of a file to standard input, use the `<` symbol followed by the filename. For example, we could pass the contents of the chickens.txt file to the cat command using `cat < chickens.txt`. Cat and many other commands are set up to accept filenames as arguments directly, but we can also redirect to standard input manually.\n",
        "\n",
        "### Combining Output and Input\n",
        "\n",
        "We can redirect standard input and output at the same time. For example, we can use cat to read in the contents of original.txt and then redirect the output to a file called output.txt with `cat < original.txt > output.txt`.\n",
        "\n",
        "### Redirecting Standard Error\n",
        "\n",
        "By default, error messages are output to the screen, but we can change this by redirecting standard error. The standard error redirection operator is `2>`. If we ran a command like `cat nonexistentfile` where the file does not exist yet, we would see an error printed to the screen. We can instead redirect standard error to a file with `cat nonexistentfile 2> error.txt`.\n",
        "\n",
        "The operator is `2>` because each stream gets its own numeric file descriptor, and for standard error the number is 2. Standard input is 0 and output 1. That is why technically you could also use `1>` for output and `0<` for input.\n",
        "\n",
        "### All Together\n",
        "\n",
        "We can redirect multiple streams at once. For example, `cat < bees.txt ants.txt > insects.txt 2> error.txt`.\n",
        "\n",
        "\n",
        "\n"
      ]
    }
  ]
}