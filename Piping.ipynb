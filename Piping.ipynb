{
  "nbformat": 4,
  "nbformat_minor": 0,
  "metadata": {
    "colab": {
      "name": "Piping.ipynb",
      "provenance": [],
      "collapsed_sections": []
    },
    "kernelspec": {
      "name": "python3",
      "display_name": "Python 3"
    },
    "language_info": {
      "name": "python"
    }
  },
  "cells": [
    {
      "cell_type": "markdown",
      "metadata": {
        "id": "SYSihe6ZlL4D"
      },
      "source": [
        "# Linux Command Line: Piping"
      ]
    },
    {
      "cell_type": "markdown",
      "metadata": {
        "id": "F59Wlw-Hpm21"
      },
      "source": [
        "## Pipes\n",
        "\n",
        "Pipes are used to redirect a stream from one program to another program. We can take the output of one command and redirect it to the input of another.\n",
        "\n",
        "## The Syntax\n",
        "\n",
        "We use the pipe character `|` to separate two commands. The output of the first command will be passed to the standard input of the second command. It looks like `command1 | command 2`.\n",
        "\n",
        "## Examples\n",
        "\n",
        "`ls | head -10`\n",
        "\n",
        "`ls -l /usr/bin | less`\n",
        "\n",
        "`date | rev`\n",
        "\n",
        "`ls | wc -l`\n",
        "\n",
        "`tac file.txt | rev`\n",
        "\n",
        "`cat file.txt | head -7 | tail -5`\n",
        "\n",
        "## The `tr` Command\n",
        "\n",
        "The translate command translates or deletes characters. The `tr` command requires us to provide data via standard input. It is often used to replace characters in a file with another character, such as replace all \"s\" with \"S\" via `cat text.txt | tr s S`.\n",
        "\n",
        "To replace all lower case letters with upper case letters, you can write `cat text.txt | tr a-z A-Z`.\n",
        "\n",
        "To replace all non-numbers you could write `cat text.txt | tr -d [:alpha:] | tr -d [:punct:] | tr -d [:blank:]`.\n",
        "\n",
        "## The `tee` Command\n",
        "\n",
        "The tee program reads standard input and copies it both to standard output and to a file. This allows us to capture information part of the way through a pipeline, without interrupting the flow. For example, you could write `cat file1.txt file2.txt file3.txt | tee combo.txt | wc -w`, or `ls -l /usr/bin | tee allfiles.txt | less`.\n"
      ]
    }
  ]
}