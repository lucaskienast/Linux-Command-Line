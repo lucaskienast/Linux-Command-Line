{
  "nbformat": 4,
  "nbformat_minor": 0,
  "metadata": {
    "colab": {
      "name": "Grep+Regex.ipynb",
      "provenance": [],
      "collapsed_sections": []
    },
    "kernelspec": {
      "name": "python3",
      "display_name": "Python 3"
    },
    "language_info": {
      "name": "python"
    }
  },
  "cells": [
    {
      "cell_type": "markdown",
      "metadata": {
        "id": "obUAdkn34Ohb"
      },
      "source": [
        "# Linux Command Line: Grep"
      ]
    },
    {
      "cell_type": "markdown",
      "metadata": {
        "id": "BuflgLlK4Qrd"
      },
      "source": [
        "## The `grep` Command\n",
        "\n",
        "The grep command searches for patterns in each file's contents. Grep will print each line that matches a pattern we provide. For example, `grep \"chicken\" animals.txt` will print each line from animals.txt that contains the pattern \"chicken\".\n",
        "\n",
        "### Case insensitive\n",
        "\n",
        "Use the `-i` option with grep to make the search case insensitive. For example, `grep -i \"Chapter\" book.txt` will print out all matching lines from book.txt that contain the word \"chaper\" in any casing.\n",
        "\n",
        "### Word search\n",
        "\n",
        "Use the `-w` option to ensure that grep only matches words, rather than fragments located inside of other words. A word is defined by non-word characters on either side. For example, `grep -w \"cat\" book.txt` would match cat but not catheter.\n",
        "\n",
        "### Recursive search\n",
        "\n",
        "Use the `-r` option to perform a recursive search which will include all files under a directory, subdirectories and their files, and so on. If we do not specify a starting directory, grep will search the current working directory. For example, `grep -r \"chicken\"` will search the current working directory and any nested directories for lines that contain \"chicken\".\n",
        "\n",
        "### Number of matches\n",
        "\n",
        "The `-c` option tells grep to print the number of matches instead of printing the actual matches.\n",
        "\n",
        "### Only print matches\n",
        "\n",
        "The `-o` option tells grep to only print out the matches, rather than the entire line containing each match.\n",
        "\n",
        "## Piping to `grep`\n",
        "\n",
        "A common use case of grep is to filter a large chunk of data.\n",
        "\n",
        "For example, `ps -aux | grep hermione` outputs a list of all processes running on our machine and then filters it down to the processes that include \"hermione\". In effect, this command lets us see what hermione is up to.\n",
        "\n",
        "Or, for example, `man grep | grep \"count\"` gets the man page for grep and then searches the man page for \"count\".\n",
        "\n",
        "## Regex\n",
        "\n",
        "We can provide regular expressions to grep. Regular expressions helps us to match complex patterns.\n",
        "\n",
        "- `.` matches any single character\n",
        "- `^` matches the start of a line\n",
        "- `$` matches the end of a line\n",
        "- `[abc]` matches any character in the set\n",
        "- `[^abc]` matches any character not in the set\n",
        "- `[A-Z]` matches characters in a range\n",
        "- `*` repeat previous expression 0 or more times\n",
        "- `\\` escape meta characters\n",
        "\n",
        "For example:\n",
        "\n",
        "`grep '[1-9]....'` prices.txt matches a string that contains a digit 1-9 (not 0) followed by any 4 characters.\n"
      ]
    }
  ]
}